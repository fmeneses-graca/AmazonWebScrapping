{
  "nbformat": 4,
  "nbformat_minor": 0,
  "metadata": {
    "colab": {
      "provenance": []
    },
    "kernelspec": {
      "name": "python3",
      "display_name": "Python 3"
    },
    "language_info": {
      "name": "python"
    }
  },
  "cells": [
    {
      "cell_type": "code",
      "execution_count": null,
      "metadata": {
        "id": "6kBCvbM1guoY"
      },
      "outputs": [],
      "source": [
        "# Import libraries\n",
        "\n",
        "from bs4 import BeautifulSoup\n",
        "import requests\n",
        "import time\n",
        "import datetime"
      ]
    },
    {
      "cell_type": "code",
      "source": [
        "# Connect to website\n",
        "\n",
        "URL = 'https://www.amazon.ca/Fender-Player-Stratocaster-Electric-Guitar/dp/B07CTX2F5F/ref=sr_1_5?keywords=fender+stratocaster&qid=1680478773&sr=8-5'\n",
        "\n",
        "headers = {\"User-Agent\": \"Mozilla/5.0 (Windows NT 10.0; Win64; x64) AppleWebKit/537.36 (KHTML, like Gecko) Chrome/111.0.0.0 Safari/537.36\", \"Accept-Encoding\":\"gzip, deflate\", \"Accept\":\"text/html,application/xhtml+xml,application/xml;q=0.9,*/*;q=0.8\", \"DNT\":\"1\",\"Connection\":\"close\", \"Upgrade-Insecure-Requests\":\"1\"}\n",
        "\n",
        "page = requests.get(URL, headers = headers)\n",
        "\n",
        "# Get all webpage\n",
        "soup1 = BeautifulSoup(page.content, \"html.parser\")\n",
        "\n",
        "# Get webpage prettified\n",
        "soup2 = BeautifulSoup(soup1.prettify(), \"html.parser\")\n",
        "\n",
        "# Get element productTitle\n",
        "title = soup2.find(id='productTitle').get_text()\n",
        "print(title)\n",
        "\n",
        "# Get element \n",
        "price = soup2.find(\"span\", {\"class\": \"a-offscreen\"}).get_text()\n",
        "print(price)"
      ],
      "metadata": {
        "colab": {
          "base_uri": "https://localhost:8080/"
        },
        "id": "uiyMksuYVfBY",
        "outputId": "79d28add-5f9a-49ba-f37f-8c983d6a486c"
      },
      "execution_count": null,
      "outputs": [
        {
          "output_type": "stream",
          "name": "stdout",
          "text": [
            "\n",
            "            Fender Player Stratocaster Electric Guitar - Maple Fingerboard - Polar White\n",
            "           \n",
            "\n",
            "                         $1,169.99\n",
            "                        \n"
          ]
        }
      ]
    },
    {
      "cell_type": "code",
      "source": [
        "# Clean data\n",
        "title = title.strip()\n",
        "print(title)\n",
        "\n",
        "price = price.strip()[1:]\n",
        "print(price)"
      ],
      "metadata": {
        "colab": {
          "base_uri": "https://localhost:8080/"
        },
        "id": "mprh-fZdb1l7",
        "outputId": "c72eb5ae-ab6d-45a9-878a-7d5bd0d572a0"
      },
      "execution_count": null,
      "outputs": [
        {
          "output_type": "stream",
          "name": "stdout",
          "text": [
            "Fender Player Stratocaster Electric Guitar - Maple Fingerboard - Polar White\n",
            "1,169.99\n"
          ]
        }
      ]
    },
    {
      "cell_type": "code",
      "source": [
        "# Create timestamp to indicate when data was scrapped\n",
        "import datetime\n",
        "\n",
        "today = datetime.date.today()\n",
        "\n",
        "print(today)"
      ],
      "metadata": {
        "colab": {
          "base_uri": "https://localhost:8080/"
        },
        "id": "8LOkDglfdjlV",
        "outputId": "d7fa288b-84b5-41dc-ecbb-56fe1a1406c7"
      },
      "execution_count": null,
      "outputs": [
        {
          "output_type": "stream",
          "name": "stdout",
          "text": [
            "2023-04-03\n"
          ]
        }
      ]
    },
    {
      "cell_type": "code",
      "source": [
        "# Create CSV file\n",
        "import csv\n",
        "\n",
        "header = ['Product', 'Price', 'Date']\n",
        "data = [title, price, today]\n",
        "\n",
        "with open('AmazonWebScraperDataset.csv', 'w', newline='', encoding='UTF8') as f:\n",
        "  writer = csv.writer(f)\n",
        "  writer.writerow(header)\n",
        "  writer.writerow(data)"
      ],
      "metadata": {
        "id": "ItU2ZdQYcLul"
      },
      "execution_count": null,
      "outputs": []
    },
    {
      "cell_type": "code",
      "source": [
        "# Visualize data with pandas\n",
        "import pandas as pd\n",
        "\n",
        "df = pd.read_csv(r'/content/AmazonWebScraperDataset.csv')\n",
        "\n",
        "print(df)"
      ],
      "metadata": {
        "colab": {
          "base_uri": "https://localhost:8080/"
        },
        "id": "3HU1lVkweNFX",
        "outputId": "77787bfb-0497-4a7a-936b-bc8b9626e8ba"
      },
      "execution_count": null,
      "outputs": [
        {
          "output_type": "stream",
          "name": "stdout",
          "text": [
            "                                             Product     Price        Date\n",
            "0  Fender Player Stratocaster Electric Guitar - M...  1,169.99  2023-04-03\n"
          ]
        }
      ]
    },
    {
      "cell_type": "code",
      "source": [
        "# Apending data to the csv\n",
        "with open('AmazonWebScraperDataset.csv', 'a+', newline='', encoding='UTF8') as f:\n",
        "  writer = csv.writer(f)\n",
        "  writer.writerow(data)"
      ],
      "metadata": {
        "id": "pNVv7FRyegqe"
      },
      "execution_count": null,
      "outputs": []
    }
  ]
}